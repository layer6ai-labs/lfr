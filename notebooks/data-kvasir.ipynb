{
 "cells": [
  {
   "cell_type": "code",
   "execution_count": 1,
   "metadata": {},
   "outputs": [],
   "source": [
    "import numpy as np"
   ]
  },
  {
   "cell_type": "code",
   "execution_count": 2,
   "metadata": {},
   "outputs": [],
   "source": [
    "kvasir = np.load('../data/kvasir/kvasir.npz')"
   ]
  },
  {
   "cell_type": "code",
   "execution_count": 8,
   "metadata": {},
   "outputs": [
    {
     "name": "stdout",
     "output_type": "stream",
     "text": [
      "['images', 'labels']\n"
     ]
    }
   ],
   "source": [
    "print(list(kvasir.keys()))"
   ]
  },
  {
   "cell_type": "code",
   "execution_count": 9,
   "metadata": {},
   "outputs": [
    {
     "data": {
      "text/plain": [
       "(8000, 80, 100, 3)"
      ]
     },
     "execution_count": 9,
     "metadata": {},
     "output_type": "execute_result"
    }
   ],
   "source": [
    "img=kvasir['images']\n",
    "img.shape"
   ]
  },
  {
   "cell_type": "code",
   "execution_count": 10,
   "metadata": {},
   "outputs": [
    {
     "data": {
      "text/plain": [
       "(0, 250)"
      ]
     },
     "execution_count": 10,
     "metadata": {},
     "output_type": "execute_result"
    }
   ],
   "source": [
    "img[0].min(), img[0].max()"
   ]
  },
  {
   "cell_type": "code",
   "execution_count": 16,
   "metadata": {},
   "outputs": [],
   "source": [
    "dataset = kvasir\n",
    "np.random.seed(42)\n",
    "train_idx = []\n",
    "test_idx = []\n",
    "for c in range(8):  # class-stratified partitioning\n",
    "    cls_idx = np.where(dataset['labels'] == c)[0]\n",
    "    np.random.shuffle(cls_idx)\n",
    "    train_idx.append(cls_idx[:750])\n",
    "    test_idx.append(cls_idx[750:])\n",
    "train_idx = np.concatenate(train_idx)\n",
    "test_idx = np.concatenate(test_idx)\n",
    "X_train = dataset['images'][train_idx].transpose([0, 3, 1, 2]) / 255\n",
    "y_train = dataset['labels'][train_idx].astype(np.int64)\n",
    "X_test = dataset['images'][test_idx].transpose([0, 3, 1, 2]) / 255\n",
    "y_test = dataset['labels'][test_idx].astype(np.int64)\n"
   ]
  },
  {
   "cell_type": "code",
   "execution_count": 18,
   "metadata": {},
   "outputs": [
    {
     "data": {
      "text/plain": [
       "((6000, 3, 80, 100), (2000, 3, 80, 100))"
      ]
     },
     "execution_count": 18,
     "metadata": {},
     "output_type": "execute_result"
    }
   ],
   "source": [
    "X_train.shape, X_test.shape"
   ]
  },
  {
   "cell_type": "code",
   "execution_count": 17,
   "metadata": {},
   "outputs": [],
   "source": [
    "data_path = '../data/kvasir'\n",
    "np.save( f'{data_path}/X_train', X_train)\n",
    "np.save( f'{data_path}/X_test', X_test)\n",
    "np.save( f'{data_path}/y_train', y_train)\n",
    "np.save( f'{data_path}/y_test', y_test)"
   ]
  },
  {
   "cell_type": "code",
   "execution_count": 23,
   "metadata": {},
   "outputs": [
    {
     "data": {
      "text/plain": [
       "0.59"
      ]
     },
     "execution_count": 23,
     "metadata": {},
     "output_type": "execute_result"
    }
   ],
   "source": [
    "from sklearn.metrics import accuracy_score as acc\n",
    "from sklearn.neighbors import KNeighborsClassifier\n",
    "\n",
    "knn = KNeighborsClassifier(n_neighbors=200, metric='cosine')\n",
    "knn.fit(X_train.reshape(6000,-1), y_train)\n",
    "accuracy = knn.score(X_test.reshape(2000,-1), y_test)\n",
    "accuracy"
   ]
  }
 ],
 "metadata": {
  "kernelspec": {
   "display_name": "ssl",
   "language": "python",
   "name": "python3"
  },
  "language_info": {
   "codemirror_mode": {
    "name": "ipython",
    "version": 3
   },
   "file_extension": ".py",
   "mimetype": "text/x-python",
   "name": "python",
   "nbconvert_exporter": "python",
   "pygments_lexer": "ipython3",
   "version": "3.10.10"
  },
  "orig_nbformat": 4
 },
 "nbformat": 4,
 "nbformat_minor": 2
}
