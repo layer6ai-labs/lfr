{
 "cells": [
  {
   "cell_type": "code",
   "execution_count": 7,
   "metadata": {},
   "outputs": [],
   "source": [
    "import numpy as np\n",
    "import pandas as pd\n",
    "data_path = '../data/theorem'"
   ]
  },
  {
   "cell_type": "code",
   "execution_count": 17,
   "metadata": {},
   "outputs": [
    {
     "data": {
      "text/html": [
       "<div>\n",
       "<style scoped>\n",
       "    .dataframe tbody tr th:only-of-type {\n",
       "        vertical-align: middle;\n",
       "    }\n",
       "\n",
       "    .dataframe tbody tr th {\n",
       "        vertical-align: top;\n",
       "    }\n",
       "\n",
       "    .dataframe thead th {\n",
       "        text-align: right;\n",
       "    }\n",
       "</style>\n",
       "<table border=\"1\" class=\"dataframe\">\n",
       "  <thead>\n",
       "    <tr style=\"text-align: right;\">\n",
       "      <th></th>\n",
       "      <th>0</th>\n",
       "      <th>1</th>\n",
       "      <th>2</th>\n",
       "      <th>3</th>\n",
       "      <th>4</th>\n",
       "      <th>5</th>\n",
       "      <th>6</th>\n",
       "      <th>7</th>\n",
       "      <th>8</th>\n",
       "      <th>9</th>\n",
       "      <th>...</th>\n",
       "      <th>47</th>\n",
       "      <th>48</th>\n",
       "      <th>49</th>\n",
       "      <th>50</th>\n",
       "      <th>51</th>\n",
       "      <th>52</th>\n",
       "      <th>53</th>\n",
       "      <th>54</th>\n",
       "      <th>55</th>\n",
       "      <th>56</th>\n",
       "    </tr>\n",
       "  </thead>\n",
       "  <tbody>\n",
       "    <tr>\n",
       "      <th>0</th>\n",
       "      <td>1.4895</td>\n",
       "      <td>0.81688</td>\n",
       "      <td>2.1168</td>\n",
       "      <td>1.7836</td>\n",
       "      <td>1.5346</td>\n",
       "      <td>-0.30543</td>\n",
       "      <td>-1.2477</td>\n",
       "      <td>-0.14537</td>\n",
       "      <td>-0.59356</td>\n",
       "      <td>-0.23316</td>\n",
       "      <td>...</td>\n",
       "      <td>-0.48278</td>\n",
       "      <td>1.4630</td>\n",
       "      <td>0.27015</td>\n",
       "      <td>-1.5559</td>\n",
       "      <td>-1</td>\n",
       "      <td>-1</td>\n",
       "      <td>-1</td>\n",
       "      <td>-1</td>\n",
       "      <td>-1</td>\n",
       "      <td>1</td>\n",
       "    </tr>\n",
       "    <tr>\n",
       "      <th>1</th>\n",
       "      <td>1.4895</td>\n",
       "      <td>0.81688</td>\n",
       "      <td>2.1168</td>\n",
       "      <td>1.7895</td>\n",
       "      <td>1.5403</td>\n",
       "      <td>-0.31850</td>\n",
       "      <td>-1.2477</td>\n",
       "      <td>-0.14537</td>\n",
       "      <td>-0.59356</td>\n",
       "      <td>-0.23316</td>\n",
       "      <td>...</td>\n",
       "      <td>-0.48278</td>\n",
       "      <td>1.4801</td>\n",
       "      <td>0.21361</td>\n",
       "      <td>-1.5559</td>\n",
       "      <td>1</td>\n",
       "      <td>-1</td>\n",
       "      <td>-1</td>\n",
       "      <td>-1</td>\n",
       "      <td>-1</td>\n",
       "      <td>-1</td>\n",
       "    </tr>\n",
       "    <tr>\n",
       "      <th>2</th>\n",
       "      <td>1.4895</td>\n",
       "      <td>0.81688</td>\n",
       "      <td>2.1168</td>\n",
       "      <td>1.7836</td>\n",
       "      <td>1.5346</td>\n",
       "      <td>-0.30543</td>\n",
       "      <td>-1.2477</td>\n",
       "      <td>-0.14537</td>\n",
       "      <td>-0.59356</td>\n",
       "      <td>-0.23316</td>\n",
       "      <td>...</td>\n",
       "      <td>-0.48278</td>\n",
       "      <td>1.4744</td>\n",
       "      <td>0.23245</td>\n",
       "      <td>-1.5559</td>\n",
       "      <td>-1</td>\n",
       "      <td>-1</td>\n",
       "      <td>-1</td>\n",
       "      <td>-1</td>\n",
       "      <td>-1</td>\n",
       "      <td>1</td>\n",
       "    </tr>\n",
       "    <tr>\n",
       "      <th>3</th>\n",
       "      <td>1.4895</td>\n",
       "      <td>0.81688</td>\n",
       "      <td>2.1168</td>\n",
       "      <td>1.7836</td>\n",
       "      <td>1.5346</td>\n",
       "      <td>-0.30543</td>\n",
       "      <td>-1.2477</td>\n",
       "      <td>-0.14537</td>\n",
       "      <td>-0.59356</td>\n",
       "      <td>-0.23316</td>\n",
       "      <td>...</td>\n",
       "      <td>-0.48278</td>\n",
       "      <td>1.4401</td>\n",
       "      <td>0.34553</td>\n",
       "      <td>-1.5559</td>\n",
       "      <td>-1</td>\n",
       "      <td>-1</td>\n",
       "      <td>-1</td>\n",
       "      <td>-1</td>\n",
       "      <td>-1</td>\n",
       "      <td>1</td>\n",
       "    </tr>\n",
       "    <tr>\n",
       "      <th>4</th>\n",
       "      <td>1.4895</td>\n",
       "      <td>0.81688</td>\n",
       "      <td>2.1168</td>\n",
       "      <td>1.7836</td>\n",
       "      <td>1.5346</td>\n",
       "      <td>-0.30543</td>\n",
       "      <td>-1.2477</td>\n",
       "      <td>-0.14537</td>\n",
       "      <td>-0.59356</td>\n",
       "      <td>-0.23316</td>\n",
       "      <td>...</td>\n",
       "      <td>-0.48278</td>\n",
       "      <td>1.4458</td>\n",
       "      <td>0.32669</td>\n",
       "      <td>-1.5559</td>\n",
       "      <td>-1</td>\n",
       "      <td>-1</td>\n",
       "      <td>-1</td>\n",
       "      <td>-1</td>\n",
       "      <td>-1</td>\n",
       "      <td>1</td>\n",
       "    </tr>\n",
       "  </tbody>\n",
       "</table>\n",
       "<p>5 rows × 57 columns</p>\n",
       "</div>"
      ],
      "text/plain": [
       "       0        1       2       3       4        5       6        7        8   \\\n",
       "0  1.4895  0.81688  2.1168  1.7836  1.5346 -0.30543 -1.2477 -0.14537 -0.59356   \n",
       "1  1.4895  0.81688  2.1168  1.7895  1.5403 -0.31850 -1.2477 -0.14537 -0.59356   \n",
       "2  1.4895  0.81688  2.1168  1.7836  1.5346 -0.30543 -1.2477 -0.14537 -0.59356   \n",
       "3  1.4895  0.81688  2.1168  1.7836  1.5346 -0.30543 -1.2477 -0.14537 -0.59356   \n",
       "4  1.4895  0.81688  2.1168  1.7836  1.5346 -0.30543 -1.2477 -0.14537 -0.59356   \n",
       "\n",
       "        9   ...       47      48       49      50  51  52  53  54  55  56  \n",
       "0 -0.23316  ... -0.48278  1.4630  0.27015 -1.5559  -1  -1  -1  -1  -1   1  \n",
       "1 -0.23316  ... -0.48278  1.4801  0.21361 -1.5559   1  -1  -1  -1  -1  -1  \n",
       "2 -0.23316  ... -0.48278  1.4744  0.23245 -1.5559  -1  -1  -1  -1  -1   1  \n",
       "3 -0.23316  ... -0.48278  1.4401  0.34553 -1.5559  -1  -1  -1  -1  -1   1  \n",
       "4 -0.23316  ... -0.48278  1.4458  0.32669 -1.5559  -1  -1  -1  -1  -1   1  \n",
       "\n",
       "[5 rows x 57 columns]"
      ]
     },
     "execution_count": 17,
     "metadata": {},
     "output_type": "execute_result"
    }
   ],
   "source": [
    "train_df = pd.read_csv(f'{data_path}/train.csv', na_values='?',header=None)\n",
    "test_df = pd.read_csv(f'{data_path}/test.csv', na_values='?',header=None)\n",
    "val_df = pd.read_csv(f'{data_path}/validation.csv', na_values='?',header=None)\n",
    "train_df.head()"
   ]
  },
  {
   "cell_type": "code",
   "execution_count": 29,
   "metadata": {},
   "outputs": [],
   "source": [
    "train_label_df = train_df[[51,52,53,54,55,56]]\n",
    "val_label_df = val_df[[51,52,53,54,55,56]]\n",
    "test_label_df = test_df[[51,52,53,54,55,56]]"
   ]
  },
  {
   "cell_type": "code",
   "execution_count": 30,
   "metadata": {},
   "outputs": [
    {
     "name": "stderr",
     "output_type": "stream",
     "text": [
      "/tmp/ipykernel_151042/2173094407.py:1: SettingWithCopyWarning: \n",
      "A value is trying to be set on a copy of a slice from a DataFrame.\n",
      "Try using .loc[row_indexer,col_indexer] = value instead\n",
      "\n",
      "See the caveats in the documentation: https://pandas.pydata.org/pandas-docs/stable/user_guide/indexing.html#returning-a-view-versus-a-copy\n",
      "  train_label_df['label'] = train_label_df.eq(1).idxmax(axis=1) - 51\n",
      "/tmp/ipykernel_151042/2173094407.py:2: SettingWithCopyWarning: \n",
      "A value is trying to be set on a copy of a slice from a DataFrame.\n",
      "Try using .loc[row_indexer,col_indexer] = value instead\n",
      "\n",
      "See the caveats in the documentation: https://pandas.pydata.org/pandas-docs/stable/user_guide/indexing.html#returning-a-view-versus-a-copy\n",
      "  val_label_df['label'] = val_label_df.eq(1).idxmax(axis=1) - 51\n",
      "/tmp/ipykernel_151042/2173094407.py:3: SettingWithCopyWarning: \n",
      "A value is trying to be set on a copy of a slice from a DataFrame.\n",
      "Try using .loc[row_indexer,col_indexer] = value instead\n",
      "\n",
      "See the caveats in the documentation: https://pandas.pydata.org/pandas-docs/stable/user_guide/indexing.html#returning-a-view-versus-a-copy\n",
      "  test_label_df['label'] = test_label_df.eq(1).idxmax(axis=1) - 51\n"
     ]
    }
   ],
   "source": [
    "train_label_df['label'] = train_label_df.eq(1).idxmax(axis=1) - 51\n",
    "val_label_df['label'] = val_label_df.eq(1).idxmax(axis=1) - 51\n",
    "test_label_df['label'] = test_label_df.eq(1).idxmax(axis=1) - 51"
   ]
  },
  {
   "cell_type": "code",
   "execution_count": 27,
   "metadata": {},
   "outputs": [
    {
     "data": {
      "text/html": [
       "<div>\n",
       "<style scoped>\n",
       "    .dataframe tbody tr th:only-of-type {\n",
       "        vertical-align: middle;\n",
       "    }\n",
       "\n",
       "    .dataframe tbody tr th {\n",
       "        vertical-align: top;\n",
       "    }\n",
       "\n",
       "    .dataframe thead th {\n",
       "        text-align: right;\n",
       "    }\n",
       "</style>\n",
       "<table border=\"1\" class=\"dataframe\">\n",
       "  <thead>\n",
       "    <tr style=\"text-align: right;\">\n",
       "      <th></th>\n",
       "      <th>51</th>\n",
       "      <th>52</th>\n",
       "      <th>53</th>\n",
       "      <th>54</th>\n",
       "      <th>55</th>\n",
       "      <th>56</th>\n",
       "      <th>label</th>\n",
       "    </tr>\n",
       "  </thead>\n",
       "  <tbody>\n",
       "    <tr>\n",
       "      <th>0</th>\n",
       "      <td>-1</td>\n",
       "      <td>-1</td>\n",
       "      <td>-1</td>\n",
       "      <td>-1</td>\n",
       "      <td>-1</td>\n",
       "      <td>1</td>\n",
       "      <td>5</td>\n",
       "    </tr>\n",
       "    <tr>\n",
       "      <th>1</th>\n",
       "      <td>1</td>\n",
       "      <td>-1</td>\n",
       "      <td>-1</td>\n",
       "      <td>-1</td>\n",
       "      <td>-1</td>\n",
       "      <td>-1</td>\n",
       "      <td>0</td>\n",
       "    </tr>\n",
       "    <tr>\n",
       "      <th>2</th>\n",
       "      <td>-1</td>\n",
       "      <td>-1</td>\n",
       "      <td>-1</td>\n",
       "      <td>-1</td>\n",
       "      <td>-1</td>\n",
       "      <td>1</td>\n",
       "      <td>5</td>\n",
       "    </tr>\n",
       "    <tr>\n",
       "      <th>3</th>\n",
       "      <td>-1</td>\n",
       "      <td>-1</td>\n",
       "      <td>-1</td>\n",
       "      <td>-1</td>\n",
       "      <td>-1</td>\n",
       "      <td>1</td>\n",
       "      <td>5</td>\n",
       "    </tr>\n",
       "    <tr>\n",
       "      <th>4</th>\n",
       "      <td>-1</td>\n",
       "      <td>-1</td>\n",
       "      <td>-1</td>\n",
       "      <td>-1</td>\n",
       "      <td>-1</td>\n",
       "      <td>1</td>\n",
       "      <td>5</td>\n",
       "    </tr>\n",
       "  </tbody>\n",
       "</table>\n",
       "</div>"
      ],
      "text/plain": [
       "   51  52  53  54  55  56  label\n",
       "0  -1  -1  -1  -1  -1   1      5\n",
       "1   1  -1  -1  -1  -1  -1      0\n",
       "2  -1  -1  -1  -1  -1   1      5\n",
       "3  -1  -1  -1  -1  -1   1      5\n",
       "4  -1  -1  -1  -1  -1   1      5"
      ]
     },
     "execution_count": 27,
     "metadata": {},
     "output_type": "execute_result"
    }
   ],
   "source": [
    "train_label_df.head()"
   ]
  },
  {
   "cell_type": "code",
   "execution_count": 31,
   "metadata": {},
   "outputs": [],
   "source": [
    "train_data = train_df.values\n",
    "val_data = val_df.values\n",
    "test_data = test_df.values"
   ]
  },
  {
   "cell_type": "code",
   "execution_count": 37,
   "metadata": {},
   "outputs": [],
   "source": [
    "X_train, y_train = train_data[:,:51], train_label_df['label'].values\n",
    "X_val, y_val = val_data[:,:51], val_label_df['label'].values\n",
    "X_test, y_test = test_data[:,:51], test_label_df['label'].values"
   ]
  },
  {
   "cell_type": "code",
   "execution_count": 38,
   "metadata": {},
   "outputs": [
    {
     "data": {
      "text/plain": [
       "((3059, 51), (1529, 51), (1530, 51))"
      ]
     },
     "execution_count": 38,
     "metadata": {},
     "output_type": "execute_result"
    }
   ],
   "source": [
    "X_train.shape, X_val.shape, X_test.shape"
   ]
  },
  {
   "cell_type": "code",
   "execution_count": 39,
   "metadata": {},
   "outputs": [
    {
     "data": {
      "text/plain": [
       "((3059,), (1529,), (1530,))"
      ]
     },
     "execution_count": 39,
     "metadata": {},
     "output_type": "execute_result"
    }
   ],
   "source": [
    "y_train.shape, y_val.shape, y_test.shape"
   ]
  },
  {
   "cell_type": "code",
   "execution_count": 40,
   "metadata": {},
   "outputs": [],
   "source": [
    "np.save( f'{data_path}/X_train', X_train)\n",
    "np.save( f'{data_path}/X_val', X_val)\n",
    "np.save( f'{data_path}/X_test', X_test)\n",
    "np.save( f'{data_path}/y_train', y_train)\n",
    "np.save( f'{data_path}/y_val', y_val)\n",
    "np.save( f'{data_path}/y_test', y_test)"
   ]
  },
  {
   "cell_type": "code",
   "execution_count": 4,
   "metadata": {},
   "outputs": [
    {
     "data": {
      "text/plain": [
       "((3059, 51), (1529, 51), (1530, 51))"
      ]
     },
     "execution_count": 4,
     "metadata": {},
     "output_type": "execute_result"
    }
   ],
   "source": [
    "X_train.shape, X_val.shape, X_test.shape"
   ]
  },
  {
   "cell_type": "code",
   "execution_count": 41,
   "metadata": {},
   "outputs": [
    {
     "data": {
      "text/plain": [
       "array([0, 1, 2, 3, 4, 5])"
      ]
     },
     "execution_count": 41,
     "metadata": {},
     "output_type": "execute_result"
    }
   ],
   "source": [
    "np.unique(y_train)"
   ]
  },
  {
   "cell_type": "code",
   "execution_count": 42,
   "metadata": {},
   "outputs": [
    {
     "name": "stdout",
     "output_type": "stream",
     "text": [
      "0.45294117647058824 0.0\n"
     ]
    }
   ],
   "source": [
    "from sklearn.metrics import accuracy_score as acc\n",
    "from sklearn.linear_model import LogisticRegression\n",
    "\n",
    "from sklearn import metrics\n",
    "acc = []\n",
    "for rand_seed in [0,1,2,3,4]:\n",
    "    np.random.seed(rand_seed)\n",
    "    lr = LogisticRegression(max_iter=3000)\n",
    "    lr.fit(X_train,y_train)\n",
    "    predicted_labels = lr.predict(X_test)\n",
    "    acc.append(metrics.accuracy_score(y_test, predicted_labels))\n",
    "acc = np.stack(acc)\n",
    "print(acc.mean(), acc.std())"
   ]
  },
  {
   "cell_type": "code",
   "execution_count": 2,
   "metadata": {},
   "outputs": [],
   "source": [
    "import numpy as np\n",
    "import pandas as pd\n",
    "data_path = '../data/'"
   ]
  },
  {
   "cell_type": "code",
   "execution_count": 3,
   "metadata": {},
   "outputs": [],
   "source": [
    "X_train=np.load( f'{data_path}/X_train.npy')\n",
    "X_val=np.load( f'{data_path}/X_val.npy')\n",
    "X_test=np.load( f'{data_path}/X_test.npy')\n",
    "y_train=np.load( f'{data_path}/y_train.npy')\n",
    "y_val=np.load( f'{data_path}/y_val.npy')\n",
    "y_test=np.load( f'{data_path}/y_test.npy')"
   ]
  },
  {
   "cell_type": "code",
   "execution_count": 5,
   "metadata": {},
   "outputs": [
    {
     "data": {
      "text/plain": [
       "0.4326797385620915"
      ]
     },
     "execution_count": 5,
     "metadata": {},
     "output_type": "execute_result"
    }
   ],
   "source": [
    "from sklearn.metrics import accuracy_score as acc\n",
    "from sklearn.neighbors import KNeighborsClassifier\n",
    "\n",
    "knn = KNeighborsClassifier(n_neighbors=200, metric='cosine')\n",
    "knn.fit(X_train, y_train)\n",
    "accuracy = knn.score(X_test, y_test)\n",
    "accuracy"
   ]
  },
  {
   "cell_type": "code",
   "execution_count": 6,
   "metadata": {},
   "outputs": [
    {
     "data": {
      "text/plain": [
       "0.44052287581699345"
      ]
     },
     "execution_count": 6,
     "metadata": {},
     "output_type": "execute_result"
    }
   ],
   "source": [
    "knn = KNeighborsClassifier(n_neighbors=200)\n",
    "knn.fit(X_train, y_train)\n",
    "accuracy = knn.score(X_test, y_test)\n",
    "accuracy"
   ]
  }
 ],
 "metadata": {
  "kernelspec": {
   "display_name": "ssl",
   "language": "python",
   "name": "python3"
  },
  "language_info": {
   "codemirror_mode": {
    "name": "ipython",
    "version": 3
   },
   "file_extension": ".py",
   "mimetype": "text/x-python",
   "name": "python",
   "nbconvert_exporter": "python",
   "pygments_lexer": "ipython3",
   "version": "3.10.8"
  },
  "orig_nbformat": 4,
  "vscode": {
   "interpreter": {
    "hash": "39f9be2a0222fea02a3d5d3efd094355d251097cb9e2bc7f6fb2750e8d77cb6e"
   }
  }
 },
 "nbformat": 4,
 "nbformat_minor": 2
}
