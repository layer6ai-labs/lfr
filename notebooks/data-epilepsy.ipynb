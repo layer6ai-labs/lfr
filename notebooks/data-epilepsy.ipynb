{
 "cells": [
  {
   "cell_type": "code",
   "execution_count": 1,
   "metadata": {},
   "outputs": [
    {
     "name": "stderr",
     "output_type": "stream",
     "text": [
      "/home/amy/anaconda3/envs/ssl/lib/python3.10/site-packages/tqdm/auto.py:22: TqdmWarning: IProgress not found. Please update jupyter and ipywidgets. See https://ipywidgets.readthedocs.io/en/stable/user_install.html\n",
      "  from .autonotebook import tqdm as notebook_tqdm\n"
     ]
    }
   ],
   "source": [
    "#https://github.com/emadeldeen24/TS-TCC/blob/main/data_preprocessing/epilepsy/preprocess.py\n",
    "# https://github.com/emadeldeen24/TS-TCC/tree/main/data_preprocessing/epilepsy/data_files\n",
    "\n",
    "import os\n",
    "import pandas as pd\n",
    "from sklearn.model_selection import train_test_split\n",
    "import torch\n",
    "from sklearn.preprocessing import MinMaxScaler\n",
    "import numpy as np\n",
    "\n",
    "data_path = '../data/EPILEPSY'\n",
    "\n",
    "data = pd.read_csv(f'{data_path}/data.csv')\n",
    "output_dir = f'{data_path}'\n",
    "\n",
    "y = data.iloc[:, -1]\n",
    "x = data.iloc[:, 1:-1]\n",
    "\n",
    "x = x.to_numpy()\n",
    "y = y.to_numpy()\n",
    "y = y - 1\n",
    "scaler = MinMaxScaler()\n",
    "x = scaler.fit_transform(x)\n",
    "\n",
    "for i, j in enumerate(y):\n",
    "    if j != 0:\n",
    "        y[i] = 1\n",
    "\n",
    "x = np.expand_dims(x, axis=1)\n",
    "\n",
    "X_train, X_test, y_train, y_test = train_test_split(x, y, test_size=0.2, random_state=42)\n",
    "X_train, X_val, y_train, y_val = train_test_split(X_train, y_train, test_size=0.2, random_state=42)\n",
    "\n"
   ]
  },
  {
   "cell_type": "code",
   "execution_count": 2,
   "metadata": {},
   "outputs": [
    {
     "data": {
      "text/plain": [
       "((7360, 1, 178), (1840, 1, 178), (2300, 1, 178))"
      ]
     },
     "execution_count": 2,
     "metadata": {},
     "output_type": "execute_result"
    }
   ],
   "source": [
    "X_train.shape, X_val.shape, X_test.shape"
   ]
  },
  {
   "cell_type": "code",
   "execution_count": 7,
   "metadata": {},
   "outputs": [],
   "source": [
    "np.save( f'{data_path}/X_train', X_train)\n",
    "np.save( f'{data_path}/X_val', X_val)\n",
    "np.save( f'{data_path}/X_test', X_test)\n",
    "np.save( f'{data_path}/y_train', y_train)\n",
    "np.save( f'{data_path}/y_val', y_val)\n",
    "np.save( f'{data_path}/y_test', y_test)"
   ]
  },
  {
   "cell_type": "code",
   "execution_count": 8,
   "metadata": {},
   "outputs": [],
   "source": [
    "X_train = X_train.reshape(X_train.shape[0], -1)\n",
    "y_train = y_train\n",
    "X_test = X_test.reshape(X_test.shape[0], -1)\n",
    "y_test = y_test"
   ]
  },
  {
   "cell_type": "code",
   "execution_count": 9,
   "metadata": {},
   "outputs": [
    {
     "name": "stdout",
     "output_type": "stream",
     "text": [
      "0.808695652173913 0.0\n"
     ]
    }
   ],
   "source": [
    "from sklearn.metrics import accuracy_score as acc\n",
    "from sklearn.linear_model import LogisticRegression\n",
    "\n",
    "from sklearn import metrics\n",
    "acc = []\n",
    "for rand_seed in [0,1,2,3,4]:\n",
    "    np.random.seed(rand_seed)\n",
    "    lr = LogisticRegression(max_iter=3000)\n",
    "    lr.fit(X_train,y_train)\n",
    "    predicted_labels = lr.predict(X_test)\n",
    "    acc.append(metrics.accuracy_score(y_test, predicted_labels))\n",
    "acc = np.stack(acc)\n",
    "print(acc.mean(), acc.std())"
   ]
  },
  {
   "cell_type": "code",
   "execution_count": 1,
   "metadata": {},
   "outputs": [],
   "source": [
    "import numpy as np\n",
    "data_path = '../data/EPILEPSY'\n",
    "X_train=np.load( f'{data_path}/X_train.npy')\n",
    "X_test=np.load( f'{data_path}/X_test.npy')\n",
    "y_train=np.load( f'{data_path}/y_train.npy')\n",
    "y_test=np.load( f'{data_path}/y_test.npy')"
   ]
  },
  {
   "cell_type": "code",
   "execution_count": 15,
   "metadata": {},
   "outputs": [
    {
     "data": {
      "text/plain": [
       "((7360,), (2300,))"
      ]
     },
     "execution_count": 15,
     "metadata": {},
     "output_type": "execute_result"
    }
   ],
   "source": [
    "y_train.shape, y_test.shape"
   ]
  },
  {
   "cell_type": "code",
   "execution_count": 3,
   "metadata": {},
   "outputs": [
    {
     "data": {
      "text/plain": [
       "(0.20217391304347826, 0.7978260869565217)"
      ]
     },
     "execution_count": 3,
     "metadata": {},
     "output_type": "execute_result"
    }
   ],
   "source": [
    "len(y_test[y_test==0])/len(y_test), len(y_test[y_test==1])/len(y_test)"
   ]
  },
  {
   "cell_type": "code",
   "execution_count": 12,
   "metadata": {},
   "outputs": [],
   "source": [
    "X_train = X_train.reshape(X_train.shape[0], -1)\n",
    "y_train = y_train\n",
    "X_test = X_test.reshape(X_test.shape[0], -1)\n",
    "y_test = y_test"
   ]
  },
  {
   "cell_type": "code",
   "execution_count": 13,
   "metadata": {},
   "outputs": [
    {
     "data": {
      "text/plain": [
       "0.8043478260869565"
      ]
     },
     "execution_count": 13,
     "metadata": {},
     "output_type": "execute_result"
    }
   ],
   "source": [
    "from sklearn.metrics import accuracy_score as acc\n",
    "from sklearn.neighbors import KNeighborsClassifier\n",
    "\n",
    "knn = KNeighborsClassifier(n_neighbors=200, metric='cosine')\n",
    "knn.fit(X_train, y_train)\n",
    "accuracy = knn.score(X_test, y_test)\n",
    "accuracy"
   ]
  },
  {
   "cell_type": "code",
   "execution_count": 14,
   "metadata": {},
   "outputs": [
    {
     "data": {
      "text/plain": [
       "0.8030434782608695"
      ]
     },
     "execution_count": 14,
     "metadata": {},
     "output_type": "execute_result"
    }
   ],
   "source": [
    "knn = KNeighborsClassifier(n_neighbors=200)\n",
    "knn.fit(X_train, y_train)\n",
    "accuracy = knn.score(X_test, y_test)\n",
    "accuracy"
   ]
  }
 ],
 "metadata": {
  "kernelspec": {
   "display_name": "ssl",
   "language": "python",
   "name": "python3"
  },
  "language_info": {
   "codemirror_mode": {
    "name": "ipython",
    "version": 3
   },
   "file_extension": ".py",
   "mimetype": "text/x-python",
   "name": "python",
   "nbconvert_exporter": "python",
   "pygments_lexer": "ipython3",
   "version": "3.10.8"
  },
  "orig_nbformat": 4,
  "vscode": {
   "interpreter": {
    "hash": "39f9be2a0222fea02a3d5d3efd094355d251097cb9e2bc7f6fb2750e8d77cb6e"
   }
  }
 },
 "nbformat": 4,
 "nbformat_minor": 2
}
